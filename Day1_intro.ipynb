{
  "nbformat": 4,
  "nbformat_minor": 0,
  "metadata": {
    "colab": {
      "provenance": [],
      "authorship_tag": "ABX9TyPmnm7uyKgW98CaqkxEcg+H",
      "include_colab_link": true
    },
    "kernelspec": {
      "name": "python3",
      "display_name": "Python 3"
    },
    "language_info": {
      "name": "python"
    }
  },
  "cells": [
    {
      "cell_type": "markdown",
      "metadata": {
        "id": "view-in-github",
        "colab_type": "text"
      },
      "source": [
        "<a href=\"https://colab.research.google.com/github/DhanaTejaDumpa/Python-Notes/blob/main/Day1_intro.ipynb\" target=\"_parent\"><img src=\"https://colab.research.google.com/assets/colab-badge.svg\" alt=\"Open In Colab\"/></a>"
      ]
    },
    {
      "cell_type": "markdown",
      "source": [
        "* Print"
      ],
      "metadata": {
        "id": "xtydvt1897Lb"
      }
    },
    {
      "cell_type": "code",
      "execution_count": null,
      "metadata": {
        "colab": {
          "base_uri": "https://localhost:8080/"
        },
        "id": "o_PUqXYo92au",
        "outputId": "9631467c-2aba-4102-e2c6-4d85bf8c33ea"
      },
      "outputs": [
        {
          "output_type": "stream",
          "name": "stdout",
          "text": [
            "Hello World\n"
          ]
        }
      ],
      "source": [
        "print('Hello World')"
      ]
    },
    {
      "cell_type": "code",
      "source": [
        "quit()"
      ],
      "metadata": {
        "id": "Ru_vrtIr95DZ"
      },
      "execution_count": null,
      "outputs": []
    },
    {
      "cell_type": "code",
      "source": [
        "#help(quit)"
      ],
      "metadata": {
        "id": "ZbWVJ-Wv941V"
      },
      "execution_count": null,
      "outputs": []
    },
    {
      "cell_type": "markdown",
      "source": [
        "## What is a Bug?\n",
        "\n",
        "A bug refers to an error,fault,or flaw in any computer program or hardware system.\n",
        "A bug produces unexpected results or causes a system to behave unexpectedly.In short, it is any behaviour or result that a program or system gets but it was not designed to do.\n",
        "\n",
        "\n",
        "In shorts,bugs are errors in our codes.\n",
        "\n",
        "\n",
        "**Types of errors :**\n",
        "\n",
        "1) Syntax errors\n",
        "\n",
        "  Syntax refers to the structure of a program,the rules of the structure.\n",
        "\n",
        "2) Logic errors or semantic errors\n",
        "\n",
        "  if you write the logic wrong you wont get the expected output.That is called as logic error.\n",
        "\n",
        "3) Runtime errors\n",
        "\n",
        "  These errors donot appear untill you run the program.These errors are also called \"Exceptions\",because they usually indicate something exceptional has happended.\n",
        "\n",
        "ex : 3/0 after you run then will return a zero division error.\n"
      ],
      "metadata": {
        "id": "q2ocCJD5--0L"
      }
    },
    {
      "cell_type": "code",
      "source": [],
      "metadata": {
        "id": "gbibnqsh-30d"
      },
      "execution_count": null,
      "outputs": []
    },
    {
      "cell_type": "markdown",
      "source": [
        "## Debugging\n",
        "\n",
        "The process of tracking bugs down and correcting them is called debugging.\n",
        "\n",
        " four steps to do to debug a code :\n",
        "\n",
        " 1) Reading (examine and read your code,check that if it says what you meant to say)\n",
        "\n",
        " 2)  Running (Experiment by making changes and running different versions)\n",
        "\n",
        " 3) Ruminating ( what kind of error is it : syntax, runtime, semantic ?)\n",
        "\n",
        " 4) Retreating ( Back off and undo recent changes until you get back to a program that works)"
      ],
      "metadata": {
        "id": "1_bnA8SaCIHs"
      }
    },
    {
      "cell_type": "code",
      "source": [],
      "metadata": {
        "id": "OyoLsXR_D7GZ"
      },
      "execution_count": null,
      "outputs": []
    },
    {
      "cell_type": "markdown",
      "source": [
        "## Interpreter and Compiler :\n",
        "* A computer understands only binary format,which consists of zeros and ones.So this is called <u>Machine language or machine code</u>.\n",
        "\n",
        "* Python is a high level language intended to be relatively straightforward for humans to read and write and for computers to read and process.\n",
        "\n",
        "* Code that written in high level language is called <mark>Source Code</mark>\n",
        "\n",
        "* Code that CPU understand is called <mark>Machine Code</mark>\n",
        "\n",
        "* To convert source code into machine code,we use either <mark>compiler or interpreter</mark>.\n",
        "\n",
        "Compiler | Interpreter\n",
        "--------|------------\n",
        "Compiler checks the syntax of our code,optimizes our code and generates machine code(which is executed by cpu) | Interpreter executes the source code.There fore there is no compilation step.\n",
        "Once the machine code is generated,it executes very fast.| Interpreter executes the program line by line.\n",
        "That is why compiled language are faster than interpreters.| That's why it's a bit slower compared to compiler.\n",
        "In compiled language the machine code is first generated then it,s executed by CPU .|An interpreter reads the source code of program as written by the programmer,passes the code and interpreters instruction on the fly"
      ],
      "metadata": {
        "id": "Xu7UC1WED8iT"
      }
    },
    {
      "cell_type": "markdown",
      "source": [
        "## Python is an Interpreter language.Why?\n",
        "* Python is the interpreter and when we are running python interactively, we can type a line of python and the python process it immediately and i's ready for us to type another line of python code.\n",
        "\n",
        "* The main advantage of interpreter language is it is platform independent.So we just have to write our code and then interpreter can run it on any platform.\n",
        "\n",
        "* But it's not possible in compiled language,because we are using machie code and every operating suystem has different architecture and this means that machine code that is generated for the same program by two different operating systems is not same.So that's why compiled language are platform dependent."
      ],
      "metadata": {
        "id": "VX5250RrQGk0"
      }
    },
    {
      "cell_type": "code",
      "source": [],
      "metadata": {
        "id": "95wOwdrcRbEG"
      },
      "execution_count": null,
      "outputs": []
    }
  ]
}